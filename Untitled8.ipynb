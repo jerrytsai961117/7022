{
  "nbformat": 4,
  "nbformat_minor": 0,
  "metadata": {
    "colab": {
      "provenance": [],
      "authorship_tag": "ABX9TyNiyxy8OsMF6bq7K7nZrp/J",
      "include_colab_link": true
    },
    "kernelspec": {
      "name": "python3",
      "display_name": "Python 3"
    },
    "language_info": {
      "name": "python"
    }
  },
  "cells": [
    {
      "cell_type": "markdown",
      "metadata": {
        "id": "view-in-github",
        "colab_type": "text"
      },
      "source": [
        "<a href=\"https://colab.research.google.com/github/jerrytsai961117/7022/blob/main/Untitled8.ipynb\" target=\"_parent\"><img src=\"https://colab.research.google.com/assets/colab-badge.svg\" alt=\"Open In Colab\"/></a>"
      ]
    },
    {
      "cell_type": "code",
      "execution_count": null,
      "metadata": {
        "id": "5lh2vb-jqt1J"
      },
      "outputs": [],
      "source": [
        "!pip install -q opendatasets pandas scikit-learn nltk"
      ]
    },
    {
      "cell_type": "code",
      "source": [
        "import opendatasets as od\n",
        "import pandas as pd\n",
        "import re\n",
        "from sklearn.feature_extraction.text import TfidfVectorizer\n",
        "from sklearn.metrics.pairwise import cosine_similarity\n",
        "import nltk\n",
        "from nltk.corpus import stopwords\n",
        "from nltk.stem import WordNetLemmatizer\n",
        "from nltk.tokenize import word_tokenize\n",
        "\n",
        "# Download necessary NLTK resources\n",
        "nltk.download('punkt')\n",
        "nltk.download('stopwords')\n",
        "nltk.download('wordnet')\n",
        "\n",
        "# Attempt to download the dataset from Kaggle\n",
        "try:\n",
        "    od.download(\"https://www.kaggle.com/datasets/tharunprabu/songs-data-with-full-lyrics\")\n",
        "    df = pd.read_csv(\"songs-data-with-full-lyrics/songs_with_lyrics.csv\")\n",
        "    print(\"Dataset downloaded and loaded successfully!\")\n",
        "except Exception as e:\n",
        "    print(f\"Could not download dataset from Kaggle. Please check your Kaggle API setup or upload the file manually. Error: {e}\")\n",
        "    print(\"Attempting to load from a local file path (assuming you've uploaded it):\")\n",
        "    try:\n",
        "        df = pd.read_csv(\"songs_with_lyrics.csv\")\n",
        "        print(\"Loaded from local file successfully!\")\n",
        "    except FileNotFoundError:\n",
        "        print(\"Could not find 'songs_with_lyrics.csv'. Creating a sample DataFrame for testing.\")\n",
        "        # Create a sample DataFrame with at least 100 entries for testing purposes\n",
        "        data = {\n",
        "            'Song Name': [f'Song {i}' for i in range(1, 151)],\n",
        "            'Artist': [f'Artist {i}' for i in range(1, 151)],\n",
        "            'Lyrics': [\n",
        "                \"This is a happy song about sunshine and flowers. Feeling good today, everything is bright.\",\n",
        "                \"A sad melody, about lost love and rainy days. Tears fall like rain.\",\n",
        "                \"Rock and roll all night, party every day. Electric guitar and loud drums.\",\n",
        "                \"Smooth jazz rhythms, chill vibes, late night city lights. Relax and unwind.\",\n",
        "                \"Hip hop beats, rhymes, and urban tales. Breaking down barriers, raising our voices.\",\n",
        "                \"Country roads, take me home, to the place I belong. Simple life, open fields.\",\n",
        "                \"Upbeat pop, dancing, feeling free. Summer nights and endless fun.\",\n",
        "                \"Another happy tune, full of joy and laughter. Life is a wonderful journey.\",\n",
        "                \"Deep thoughts, philosophical lyrics, questioning existence. The universe within.\",\n",
        "                \"Romantic ballad, hearts entwined, forever together. Love is eternal.\",\n",
        "                \"This is a happy song about sunshine and flowers. Feeling good today, everything is bright. More lyrics for a longer entry to test max_tokens. This song is truly uplifting and brings joy to my heart. The sun is shining, birds are singing, and life is beautiful. There's nothing to worry about, just pure bliss. Let's sing along and celebrate this moment. The rhythm is catchy and the melody is sweet. It's a perfect day for happiness.\",\n",
        "                \"A sad melody, about lost love and rainy days. Tears fall like rain. This is a very melancholic song, reflecting on sorrow and despair. The rain mirrors the tears falling from my eyes. There's a deep sense of longing and a heavy heart. Every note echoes the pain, a symphony of sadness. I miss you more than words can say. This feeling of emptiness consumes me. It's a dark and lonely road ahead, without you by my side. The world seems to have lost its color, fading into gray.\",\n",
        "                \"Rock and roll all night, party every day. Electric guitar and loud drums. Let's turn up the volume and let the music take control. The energy is electrifying, the crowd is roaring. We're here to rock, to shout, to let loose. No inhibitions, just pure raw power. The bass is thumping, the guitar riffs are insane. This is what living feels like, wild and free. Every beat pulses through my veins. We'll dance till dawn, till the sun comes up. This is our anthem, our rebellion. Yeah!\",\n",
        "                \"Smooth jazz rhythms, chill vibes, late night city lights. Relax and unwind. The saxophone sings a soulful tune, the piano softly plays. A gentle breeze through the open window, the city sleeps. This music soothes my soul, washes away the day's worries. A glass of wine, a comfortable chair, and perfect harmony. The night is young, and the music flows effortlessly. It's a moment of peace, of pure tranquility. Let the smooth sounds envelop you, drift away.\",\n",
        "                \"Hip hop beats, rhymes, and urban tales. Breaking down barriers, raising our voices. The streets are alive with the sound of the future. Every word is a statement, every beat a revolution. We speak our truth, we tell our stories. From the block to the top, we never stop. The rhythm takes hold, the flow is unstoppable. This is our culture, our passion. We're here to inspire, to uplift, to empower. Stand tall, stand proud, let your voice be heard.\",\n",
        "                \"Country roads, take me home, to the place I belong. Simple life, open fields. The smell of fresh cut hay, the sound of crickets at night. This is where my heart is, in the quiet embrace of nature. No hustle, no bustle, just peaceful serenity. The stars shine brighter here, a blanket of diamonds. I miss the simple things, the warmth of home. Every memory is a comfort, a gentle reminder. This land holds my roots, my history. It's a place of healing, of solace, of belonging.\",\n",
        "                \"Upbeat pop, dancing, feeling free. Summer nights and endless fun. The music makes me want to move, to jump, to shout. Every beat is a burst of energy, a surge of happiness. We're living in the moment, no regrets, just pure bliss. The lights are bright, the crowd is alive. This is the soundtrack to our perfect summer. Let's dance until we can't anymore, until the sun rises. The good times are here to stay, forever young. This feeling is electrifying, exhilarating. Yeah!\",\n",
        "                \"Another happy tune, full of joy and laughter. Life is a wonderful journey. Every step is an adventure, every day a new beginning. I'm grateful for every moment, every smile. The world is full of beauty, if you just open your eyes. Let's spread kindness, spread love, spread happiness. The positive vibes are contagious, let them flow. This song is a celebration of life, of all its wonders. Embrace the journey, enjoy the ride. It's a beautiful world, let's make it even better.\",\n",
        "                \"Deep thoughts, philosophical lyrics, questioning existence. The universe within. What is our purpose, our meaning? The stars gaze back, silent witnesses. We are but dust, yet we hold infinitude. The mysteries of life unfold with every breath. Search for truth, search for understanding. The path is long, the questions endless. This song invites contemplation, introspection. Look within, find your answers. The journey of self-discovery is profound.\",\n",
        "                \"Romantic ballad, hearts entwined, forever together. Love is eternal. Your hand in mine, walking through life's garden. Every moment with you is precious, a treasure. Our love story, written in the stars. Two souls, one heart, forever bound. The melody whispers promises, the lyrics sing of devotion. This is more than a song, it's our anthem. Through thick and thin, we'll always be together. Our love is a flame, burning bright, never fading.\"\n",
        "            ] + [f\"This is a generic song about various topics {i}. It has some random words and phrases to fill up the content for testing purposes. More text to ensure sufficient length for the dataset, reaching over 100 entries. Blah blah blah. Keywords: generic, random, text, test, long, fill, content.\" for i in range(11, 151)]\n",
        "        }\n",
        "        df = pd.DataFrame(data)\n",
        "        print(\"Created a sample DataFrame for testing.\")\n",
        "\n",
        "# Check the first few rows and basic info of the dataset\n",
        "if 'df' in locals() and not df.empty:\n",
        "    print(\"\\nFirst 5 rows of the dataset:\")\n",
        "    print(df.head())\n",
        "    print(\"\\nDataset Info:\")\n",
        "    df.info()\n",
        "    print(f\"\\nNumber of entries in the dataset: {len(df)}\")\n",
        "else:\n",
        "    print(\"\\nDataset could not be loaded or created. Please check the steps above.\")\n",
        "\n",
        "# Ensure the 'Lyrics' column exists\n",
        "if 'Lyrics' not in df.columns:\n",
        "    print(\"Error: 'Lyrics' column not found in the dataset. Please check the dataset structure.\")"
      ],
      "metadata": {
        "id": "9FIOiyTbqvnt"
      },
      "execution_count": null,
      "outputs": []
    },
    {
      "cell_type": "code",
      "source": [
        "# Ensure the 'Lyrics' column exists and isn't empty\n",
        "if 'Lyrics' in df.columns and not df['Lyrics'].empty:\n",
        "    # Define text preprocessing function\n",
        "    lemmatizer = WordNetLemmatizer()\n",
        "    stop_words = set(stopwords.words('english'))\n",
        "\n",
        "    def preprocess_text(text):\n",
        "        text = str(text).lower() # Convert to lowercase and ensure it's a string\n",
        "        text = re.sub(r'\\[.*?\\]', '', text) # Remove content in square brackets (e.g., [Verse 1])\n",
        "        text = re.sub(r'[^a-z\\s]', '', text) # Keep only letters and spaces\n",
        "        tokens = word_tokenize(text) # Tokenize\n",
        "        tokens = [lemmatizer.lemmatize(word) for word in tokens if word not in stop_words] # Lemmatize and remove stopwords\n",
        "        return ' '.'.join(tokens)\n",
        "\n",
        "    # Apply preprocessing to the 'Lyrics' column\n",
        "    df['Cleaned_Lyrics'] = df['Lyrics'].apply(preprocess_text)\n",
        "\n",
        "    print(\"\\nExample of preprocessed lyrics (first 5 entries):\")\n",
        "    for i in range(5):\n",
        "        if i < len(df):\n",
        "            print(f\"Original: {df['Lyrics'].iloc[i][:100]}...\") # Show first 100 characters\n",
        "            print(f\"Processed: {df['Cleaned_Lyrics'].iloc[i][:100]}...\\n\")\n",
        "else:\n",
        "    print(\"Cannot perform data preprocessing because the 'Lyrics' column is missing or empty.\")\n",
        "\n",
        "# Prepare the final dataset for the recommender system\n",
        "# We'll use the 'Cleaned_Lyrics' column to build TF-IDF vectors\n",
        "final_dataset = df[['Song Name', 'Artist', 'Cleaned_Lyrics']].copy()\n",
        "print(\"\\nFinal prepared dataset (first 5 rows, with cleaned lyrics):\")\n",
        "print(final_dataset.head())\n",
        "\n",
        "# Success check: Ensure the dataset has enough entries\n",
        "if len(final_dataset) >= 100:\n",
        "    print(f\"\\nDataset prepared! Contains {len(final_dataset)} songs, meeting the >= 100 entries criteria.\")\n",
        "else:\n",
        "    print(f\"\\nDataset prepared, but only contains {len(final_dataset)} songs, which doesn't meet the >= 100 entries criteria. Please check your data source or sample data.\")"
      ],
      "metadata": {
        "id": "Se_e9OY8qwnh"
      },
      "execution_count": null,
      "outputs": []
    }
  ]
}